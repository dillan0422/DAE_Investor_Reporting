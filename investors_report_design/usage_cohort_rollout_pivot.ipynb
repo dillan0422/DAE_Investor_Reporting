{
 "cells": [
  {
   "cell_type": "code",
   "execution_count": 1,
   "metadata": {},
   "outputs": [],
   "source": [
    "# Python script to do the analysis based on the account table\n",
    "import openpyxl\n",
    "import numpy as np\n",
    "import pandas as pd\n",
    "import os\n",
    "from util import rs_conn, mail\n",
    "import time\n",
    "import datetime\n",
    "import logging"
   ]
  },
  {
   "cell_type": "code",
   "execution_count": 2,
   "metadata": {},
   "outputs": [],
   "source": [
    "# Get the redshift user name and password\n",
    "rs_user = os.getenv('RS_USER')\n",
    "rs_pass = os.getenv('RS_PASS')\n",
    "\n",
    "# Connect to the Redshift\n",
    "rs = rs_conn.RS_CONN(rs_user=rs_user, rs_pass=rs_pass)\n",
    "rs.set_Conn()"
   ]
  },
  {
   "cell_type": "code",
   "execution_count": 3,
   "metadata": {},
   "outputs": [],
   "source": [
    "acct_engagement_pull_all_cycle=\"\"\"\n",
    "select * from ua.eos_acct_summary\n",
    ";\n",
    "\"\"\"\n",
    "all_df_1=rs.get_result_df(sql_query=acct_engagement_pull_all_cycle)"
   ]
  },
  {
   "cell_type": "code",
   "execution_count": 5,
   "metadata": {},
   "outputs": [],
   "source": [
    "all_df_1['attrition_pct'] = all_df_1['attrition_cnt']/all_df_1['actived_acct_cnt']\n",
    "all_df_1['co_pct'] = all_df_1['co_cnt']/ all_df_1['actived_acct_cnt']\n",
    "all_df_1['retention_pct'] = all_df_1['open_acct_cnt']/ all_df_1['actived_acct_cnt']\n",
    "all_df_1['revolving_pct'] = all_df_1['tot_adb_amt']/ all_df_1['all_adb_amt']\n",
    "\n",
    "all_df_1['active_rate_2'] = all_df_1['active_acct_cnt']/all_df_1['actived_acct_cnt']"
   ]
  },
  {
   "cell_type": "code",
   "execution_count": 6,
   "metadata": {},
   "outputs": [
    {
     "data": {
      "text/plain": [
       "Index(['stmt_mth', 'cycle_end_dt', 'vintage', 'actived_acct_cnt',\n",
       "       'attrition_cnt', 'co_cnt', 'other_close_cnt', 'open_acct_cnt',\n",
       "       'active_acct_cnt', 'active_rate', 'actived_credit_limit',\n",
       "       'open_credit_limit', 'active_credit_limit', 'avg_active_credit_line',\n",
       "       'transactor_acct_cnt', 'transactor_acct_pct', 'revolver_acct_cnt',\n",
       "       'revolver_acct_pct', 'transactor_revolver_acct_cnt',\n",
       "       'transactor_revolver_acct_pct', 'tot_end_os_bal_amt',\n",
       "       'acct_end_os_bal_amt', 'tot_txn_amt', 'acct_txn_amt', 'txn_cl_util_pct',\n",
       "       'tot_txn_cnt', 'acct_txn_cnt', 'txn_size_amt', 'tot_adb_amt',\n",
       "       'acct_adb_amt', 'adb_cl_util_pct', 'tot_prncp_amt',\n",
       "       'incremental_open_fee_acct_cnt', 'all_adb_amt', 'revolving_rate',\n",
       "       'attrition_pct', 'co_pct', 'retention_pct', 'revolving_pct',\n",
       "       'active_rate_2'],\n",
       "      dtype='object')"
      ]
     },
     "execution_count": 6,
     "metadata": {},
     "output_type": "execute_result"
    }
   ],
   "source": [
    "all_df_1.columns"
   ]
  },
  {
   "cell_type": "code",
   "execution_count": 7,
   "metadata": {},
   "outputs": [],
   "source": [
    "actived_acct_cnt = pd.pivot_table(all_df_1,values='actived_acct_cnt',index='vintage',columns='stmt_mth',aggfunc='sum',margins=True,margins_name = 'Total').drop('Total',axis=1)\n",
    "actived_acct_cnt.to_csv(\"activated_acct_cnt_pivot.csv\")"
   ]
  },
  {
   "cell_type": "code",
   "execution_count": 8,
   "metadata": {},
   "outputs": [],
   "source": [
    "attrition_cnt = pd.pivot_table(all_df_1,values='attrition_cnt',index='vintage',columns='stmt_mth',aggfunc='sum',margins=True,margins_name = 'Total').drop('Total',axis=1)\n",
    "attrition_cnt.to_csv(\"attrition_cnt.csv\")"
   ]
  },
  {
   "cell_type": "code",
   "execution_count": 9,
   "metadata": {},
   "outputs": [],
   "source": [
    "co_cnt = pd.pivot_table(all_df_1,values='co_cnt',index='vintage',columns='stmt_mth',aggfunc='sum',margins=True,margins_name = 'Total').drop('Total',axis=1)\n",
    "co_cnt.to_csv(\"co_cnt.csv\")"
   ]
  },
  {
   "cell_type": "code",
   "execution_count": 10,
   "metadata": {},
   "outputs": [],
   "source": [
    "other_close_cnt = pd.pivot_table(all_df_1,values='other_close_cnt',index='vintage',columns='stmt_mth',aggfunc='sum',margins=True,margins_name = 'Total').drop('Total',axis=1)\n",
    "other_close_cnt.to_csv(\"other_close_cnt.csv\")"
   ]
  },
  {
   "cell_type": "code",
   "execution_count": 11,
   "metadata": {},
   "outputs": [],
   "source": [
    "open_acct_cnt = pd.pivot_table(all_df_1,values='open_acct_cnt',index='vintage',columns='stmt_mth',aggfunc='sum',margins=True,margins_name = 'Total').drop('Total',axis=1)\n",
    "open_acct_cnt.to_csv(\"open_acct_cnt.csv\")"
   ]
  },
  {
   "cell_type": "code",
   "execution_count": 12,
   "metadata": {},
   "outputs": [],
   "source": [
    "all_df_1['retention_pct'] = all_df_1['open_acct_cnt']/ all_df_1['actived_acct_cnt']\n",
    "retention_pct = pd.pivot_table(all_df_1,values='retention_pct',index='vintage',columns='stmt_mth',aggfunc='sum',margins=True,margins_name = 'Total').drop('Total',axis=1)\n",
    "retention_pct.iloc[-1] = open_acct_cnt.iloc[-1]/actived_acct_cnt.iloc[-1]\n",
    "retention_pct.to_csv(\"retention_pct.csv\")"
   ]
  },
  {
   "cell_type": "code",
   "execution_count": 13,
   "metadata": {},
   "outputs": [],
   "source": [
    "actived_credit_limit = pd.pivot_table(all_df_1,values='actived_credit_limit',index='vintage',columns='stmt_mth',aggfunc='sum',margins=True,margins_name = 'Total').drop('Total',axis=1)\n",
    "actived_credit_limit.to_csv(\"actived_credit_limit.csv\")"
   ]
  },
  {
   "cell_type": "code",
   "execution_count": 15,
   "metadata": {},
   "outputs": [],
   "source": [
    "open_credit_limit = pd.pivot_table(all_df_1,values='open_credit_limit',index='vintage',columns='stmt_mth',aggfunc='sum',margins=True,margins_name = 'Total').drop('Total',axis=1)\n",
    "open_credit_limit.to_csv(\"open_credit_limit.csv\")"
   ]
  },
  {
   "cell_type": "code",
   "execution_count": 14,
   "metadata": {},
   "outputs": [],
   "source": [
    "active_credit_limit = pd.pivot_table(all_df_1,values='active_credit_limit',index='vintage',columns='stmt_mth',aggfunc='sum',margins=True,margins_name = 'Total').drop('Total',axis=1)\n",
    "active_credit_limit.to_csv(\"active_credit_limit.csv\")"
   ]
  },
  {
   "cell_type": "code",
   "execution_count": 17,
   "metadata": {},
   "outputs": [],
   "source": [
    "active_acct_cnt = pd.pivot_table(all_df_1,values='active_acct_cnt',index='vintage',columns='stmt_mth',aggfunc='sum',margins=True,margins_name = 'Total').drop('Total',axis=1)\n",
    "active_acct_cnt.to_csv(\"active_acct_cnt.csv\")"
   ]
  },
  {
   "cell_type": "code",
   "execution_count": 19,
   "metadata": {},
   "outputs": [],
   "source": [
    "avg_active_credit_line = pd.pivot_table(all_df_1,values='avg_active_credit_line',index='vintage',columns='stmt_mth',aggfunc='sum',margins=True,margins_name = 'Total').drop('Total',axis=1)\n",
    "avg_active_credit_line.iloc[-1] = active_credit_limit.iloc[-1]/active_acct_cnt.iloc[-1]\n",
    "avg_active_credit_line.to_csv(\"avg_active_credit_line.csv\")"
   ]
  },
  {
   "cell_type": "code",
   "execution_count": 20,
   "metadata": {},
   "outputs": [],
   "source": [
    "active_rate = pd.pivot_table(all_df_1,values='active_rate',index='vintage',columns='stmt_mth',aggfunc='sum',margins=True,margins_name = 'Total').drop('Total',axis=1)\n",
    "active_rate.iloc[-1] = active_acct_cnt.iloc[-1]/open_acct_cnt.iloc[-1]\n",
    "active_rate.to_csv(\"active_rate.csv\")"
   ]
  },
  {
   "cell_type": "code",
   "execution_count": 21,
   "metadata": {},
   "outputs": [],
   "source": [
    "transactor_acct_cnt = pd.pivot_table(all_df_1,values='transactor_acct_cnt',index='vintage',columns='stmt_mth',aggfunc='sum',margins=True,margins_name = 'Total').drop('Total',axis=1)\n",
    "transactor_acct_cnt.to_csv(\"transactor_acct_cnt.csv\")"
   ]
  },
  {
   "cell_type": "code",
   "execution_count": 22,
   "metadata": {},
   "outputs": [],
   "source": [
    "transactor_acct_pct = pd.pivot_table(all_df_1,values='transactor_acct_pct',index='vintage',columns='stmt_mth',aggfunc='sum',margins=True,margins_name = 'Total').drop('Total',axis=1)\n",
    "transactor_acct_pct.iloc[-1] =  transactor_acct_cnt.iloc[-1]/open_acct_cnt.iloc[-1]\n",
    "transactor_acct_pct.to_csv(\"transactor_acct_pct.csv\")"
   ]
  },
  {
   "cell_type": "code",
   "execution_count": 23,
   "metadata": {},
   "outputs": [],
   "source": [
    "revolver_acct_cnt = pd.pivot_table(all_df_1,values='revolver_acct_cnt',index='vintage',columns='stmt_mth',aggfunc='sum',margins=True,margins_name = 'Total').drop('Total',axis=1)\n",
    "revolver_acct_cnt.to_csv(\"revolver_acct_cnt.csv\")"
   ]
  },
  {
   "cell_type": "code",
   "execution_count": 24,
   "metadata": {},
   "outputs": [],
   "source": [
    "revolver_acct_pct = pd.pivot_table(all_df_1,values='revolver_acct_pct',index='vintage',columns='stmt_mth',aggfunc='sum',margins=True,margins_name = 'Total').drop('Total',axis=1)\n",
    "revolver_acct_pct.iloc[-1] =  revolver_acct_cnt.iloc[-1]/open_acct_cnt.iloc[-1]\n",
    "revolver_acct_pct.to_csv(\"revolver_acct_pct.csv\")"
   ]
  },
  {
   "cell_type": "code",
   "execution_count": 25,
   "metadata": {},
   "outputs": [],
   "source": [
    "tot_end_os_bal_amt = pd.pivot_table(all_df_1,values='tot_end_os_bal_amt',index='vintage',columns='stmt_mth',aggfunc='sum',margins=True,margins_name = 'Total').drop('Total',axis=1)\n",
    "tot_end_os_bal_amt.to_csv(\"tot_end_os_bal_amt.csv\")"
   ]
  },
  {
   "cell_type": "code",
   "execution_count": 26,
   "metadata": {},
   "outputs": [],
   "source": [
    "acct_end_os_bal_amt = pd.pivot_table(all_df_1,values='acct_end_os_bal_amt',index='vintage',columns='stmt_mth',aggfunc='sum',margins=True,margins_name = 'Total').drop('Total',axis=1)\n",
    "acct_end_os_bal_amt.iloc[-1] = tot_end_os_bal_amt.iloc[-1]/active_acct_cnt.iloc[-1]\n",
    "acct_end_os_bal_amt.to_csv(\"acct_end_os_bal_amt.csv\")"
   ]
  },
  {
   "cell_type": "code",
   "execution_count": 57,
   "metadata": {},
   "outputs": [
    {
     "ename": "KeyError",
     "evalue": "'tot_avg_os_bal_amt'",
     "output_type": "error",
     "traceback": [
      "\u001b[0;31m---------------------------------------------------------------------------\u001b[0m",
      "\u001b[0;31mKeyError\u001b[0m                                  Traceback (most recent call last)",
      "\u001b[0;32m<ipython-input-57-d8fbf57acd22>\u001b[0m in \u001b[0;36m<module>\u001b[0;34m\u001b[0m\n\u001b[0;32m----> 1\u001b[0;31m \u001b[0mtot_avg_os_bal_amt\u001b[0m \u001b[0;34m=\u001b[0m \u001b[0mpd\u001b[0m\u001b[0;34m.\u001b[0m\u001b[0mpivot_table\u001b[0m\u001b[0;34m(\u001b[0m\u001b[0mall_df_1\u001b[0m\u001b[0;34m,\u001b[0m\u001b[0mvalues\u001b[0m\u001b[0;34m=\u001b[0m\u001b[0;34m'tot_avg_os_bal_amt'\u001b[0m\u001b[0;34m,\u001b[0m\u001b[0mindex\u001b[0m\u001b[0;34m=\u001b[0m\u001b[0;34m'vintage'\u001b[0m\u001b[0;34m,\u001b[0m\u001b[0mcolumns\u001b[0m\u001b[0;34m=\u001b[0m\u001b[0;34m'stmt_mth'\u001b[0m\u001b[0;34m,\u001b[0m\u001b[0maggfunc\u001b[0m\u001b[0;34m=\u001b[0m\u001b[0;34m'sum'\u001b[0m\u001b[0;34m,\u001b[0m\u001b[0mmargins\u001b[0m\u001b[0;34m=\u001b[0m\u001b[0;32mTrue\u001b[0m\u001b[0;34m,\u001b[0m\u001b[0mmargins_name\u001b[0m \u001b[0;34m=\u001b[0m \u001b[0;34m'Total'\u001b[0m\u001b[0;34m)\u001b[0m\u001b[0;34m.\u001b[0m\u001b[0mdrop\u001b[0m\u001b[0;34m(\u001b[0m\u001b[0;34m'Total'\u001b[0m\u001b[0;34m,\u001b[0m\u001b[0maxis\u001b[0m\u001b[0;34m=\u001b[0m\u001b[0;36m1\u001b[0m\u001b[0;34m)\u001b[0m\u001b[0;34m\u001b[0m\u001b[0;34m\u001b[0m\u001b[0m\n\u001b[0m\u001b[1;32m      2\u001b[0m \u001b[0mtot_avg_os_bal_amt\u001b[0m\u001b[0;34m.\u001b[0m\u001b[0mto_csv\u001b[0m\u001b[0;34m(\u001b[0m\u001b[0;34m\"tot_avg_os_bal_amt.csv\"\u001b[0m\u001b[0;34m)\u001b[0m\u001b[0;34m\u001b[0m\u001b[0;34m\u001b[0m\u001b[0m\n",
      "\u001b[0;32m~/.local/lib/python3.8/site-packages/pandas/core/reshape/pivot.py\u001b[0m in \u001b[0;36mpivot_table\u001b[0;34m(data, values, index, columns, aggfunc, fill_value, margins, dropna, margins_name, observed, sort)\u001b[0m\n\u001b[1;32m     93\u001b[0m         \u001b[0;32mreturn\u001b[0m \u001b[0mtable\u001b[0m\u001b[0;34m.\u001b[0m\u001b[0m__finalize__\u001b[0m\u001b[0;34m(\u001b[0m\u001b[0mdata\u001b[0m\u001b[0;34m,\u001b[0m \u001b[0mmethod\u001b[0m\u001b[0;34m=\u001b[0m\u001b[0;34m\"pivot_table\"\u001b[0m\u001b[0;34m)\u001b[0m\u001b[0;34m\u001b[0m\u001b[0;34m\u001b[0m\u001b[0m\n\u001b[1;32m     94\u001b[0m \u001b[0;34m\u001b[0m\u001b[0m\n\u001b[0;32m---> 95\u001b[0;31m     table = __internal_pivot_table(\n\u001b[0m\u001b[1;32m     96\u001b[0m         \u001b[0mdata\u001b[0m\u001b[0;34m,\u001b[0m\u001b[0;34m\u001b[0m\u001b[0;34m\u001b[0m\u001b[0m\n\u001b[1;32m     97\u001b[0m         \u001b[0mvalues\u001b[0m\u001b[0;34m,\u001b[0m\u001b[0;34m\u001b[0m\u001b[0;34m\u001b[0m\u001b[0m\n",
      "\u001b[0;32m~/.local/lib/python3.8/site-packages/pandas/core/reshape/pivot.py\u001b[0m in \u001b[0;36m__internal_pivot_table\u001b[0;34m(data, values, index, columns, aggfunc, fill_value, margins, dropna, margins_name, observed, sort)\u001b[0m\n\u001b[1;32m    139\u001b[0m         \u001b[0;32mfor\u001b[0m \u001b[0mi\u001b[0m \u001b[0;32min\u001b[0m \u001b[0mvalues\u001b[0m\u001b[0;34m:\u001b[0m\u001b[0;34m\u001b[0m\u001b[0;34m\u001b[0m\u001b[0m\n\u001b[1;32m    140\u001b[0m             \u001b[0;32mif\u001b[0m \u001b[0mi\u001b[0m \u001b[0;32mnot\u001b[0m \u001b[0;32min\u001b[0m \u001b[0mdata\u001b[0m\u001b[0;34m:\u001b[0m\u001b[0;34m\u001b[0m\u001b[0;34m\u001b[0m\u001b[0m\n\u001b[0;32m--> 141\u001b[0;31m                 \u001b[0;32mraise\u001b[0m \u001b[0mKeyError\u001b[0m\u001b[0;34m(\u001b[0m\u001b[0mi\u001b[0m\u001b[0;34m)\u001b[0m\u001b[0;34m\u001b[0m\u001b[0;34m\u001b[0m\u001b[0m\n\u001b[0m\u001b[1;32m    142\u001b[0m \u001b[0;34m\u001b[0m\u001b[0m\n\u001b[1;32m    143\u001b[0m         \u001b[0mto_filter\u001b[0m \u001b[0;34m=\u001b[0m \u001b[0;34m[\u001b[0m\u001b[0;34m]\u001b[0m\u001b[0;34m\u001b[0m\u001b[0;34m\u001b[0m\u001b[0m\n",
      "\u001b[0;31mKeyError\u001b[0m: 'tot_avg_os_bal_amt'"
     ]
    }
   ],
   "source": [
    "tot_avg_os_bal_amt = pd.pivot_table(all_df_1,values='tot_avg_os_bal_amt',index='vintage',columns='stmt_mth',aggfunc='sum',margins=True,margins_name = 'Total').drop('Total',axis=1)\n",
    "tot_avg_os_bal_amt.to_csv(\"tot_avg_os_bal_amt.csv\")"
   ]
  },
  {
   "cell_type": "code",
   "execution_count": 92,
   "metadata": {},
   "outputs": [
    {
     "ename": "KeyError",
     "evalue": "'acct_avg_os_bal_amt'",
     "output_type": "error",
     "traceback": [
      "\u001b[0;31m---------------------------------------------------------------------------\u001b[0m",
      "\u001b[0;31mKeyError\u001b[0m                                  Traceback (most recent call last)",
      "\u001b[0;32m<ipython-input-92-f1627bbac5db>\u001b[0m in \u001b[0;36m<module>\u001b[0;34m\u001b[0m\n\u001b[0;32m----> 1\u001b[0;31m \u001b[0macct_avg_os_bal_amt\u001b[0m \u001b[0;34m=\u001b[0m \u001b[0mpd\u001b[0m\u001b[0;34m.\u001b[0m\u001b[0mpivot_table\u001b[0m\u001b[0;34m(\u001b[0m\u001b[0mall_df_1\u001b[0m\u001b[0;34m,\u001b[0m\u001b[0mvalues\u001b[0m\u001b[0;34m=\u001b[0m\u001b[0;34m'acct_avg_os_bal_amt'\u001b[0m\u001b[0;34m,\u001b[0m\u001b[0mindex\u001b[0m\u001b[0;34m=\u001b[0m\u001b[0;34m'vintage'\u001b[0m\u001b[0;34m,\u001b[0m\u001b[0mcolumns\u001b[0m\u001b[0;34m=\u001b[0m\u001b[0;34m'stmt_mth'\u001b[0m\u001b[0;34m,\u001b[0m\u001b[0maggfunc\u001b[0m\u001b[0;34m=\u001b[0m\u001b[0;34m'sum'\u001b[0m\u001b[0;34m,\u001b[0m\u001b[0mmargins\u001b[0m\u001b[0;34m=\u001b[0m\u001b[0;32mTrue\u001b[0m\u001b[0;34m,\u001b[0m\u001b[0mmargins_name\u001b[0m \u001b[0;34m=\u001b[0m \u001b[0;34m'Total'\u001b[0m\u001b[0;34m)\u001b[0m\u001b[0;34m.\u001b[0m\u001b[0mdrop\u001b[0m\u001b[0;34m(\u001b[0m\u001b[0;34m'Total'\u001b[0m\u001b[0;34m,\u001b[0m\u001b[0maxis\u001b[0m\u001b[0;34m=\u001b[0m\u001b[0;36m1\u001b[0m\u001b[0;34m)\u001b[0m\u001b[0;34m\u001b[0m\u001b[0;34m\u001b[0m\u001b[0m\n\u001b[0m\u001b[1;32m      2\u001b[0m \u001b[0macct_avg_os_bal_amt\u001b[0m\u001b[0;34m.\u001b[0m\u001b[0miloc\u001b[0m\u001b[0;34m[\u001b[0m\u001b[0;34m-\u001b[0m\u001b[0;36m1\u001b[0m\u001b[0;34m]\u001b[0m \u001b[0;34m=\u001b[0m \u001b[0mtot_avg_os_bal_amt\u001b[0m\u001b[0;34m.\u001b[0m\u001b[0miloc\u001b[0m\u001b[0;34m[\u001b[0m\u001b[0;34m-\u001b[0m\u001b[0;36m1\u001b[0m\u001b[0;34m]\u001b[0m\u001b[0;34m/\u001b[0m\u001b[0mactive_acct_cnt\u001b[0m\u001b[0;34m.\u001b[0m\u001b[0miloc\u001b[0m\u001b[0;34m[\u001b[0m\u001b[0;34m-\u001b[0m\u001b[0;36m1\u001b[0m\u001b[0;34m]\u001b[0m\u001b[0;34m\u001b[0m\u001b[0;34m\u001b[0m\u001b[0m\n",
      "\u001b[0;32m~/.local/lib/python3.8/site-packages/pandas/core/reshape/pivot.py\u001b[0m in \u001b[0;36mpivot_table\u001b[0;34m(data, values, index, columns, aggfunc, fill_value, margins, dropna, margins_name, observed, sort)\u001b[0m\n\u001b[1;32m     93\u001b[0m         \u001b[0;32mreturn\u001b[0m \u001b[0mtable\u001b[0m\u001b[0;34m.\u001b[0m\u001b[0m__finalize__\u001b[0m\u001b[0;34m(\u001b[0m\u001b[0mdata\u001b[0m\u001b[0;34m,\u001b[0m \u001b[0mmethod\u001b[0m\u001b[0;34m=\u001b[0m\u001b[0;34m\"pivot_table\"\u001b[0m\u001b[0;34m)\u001b[0m\u001b[0;34m\u001b[0m\u001b[0;34m\u001b[0m\u001b[0m\n\u001b[1;32m     94\u001b[0m \u001b[0;34m\u001b[0m\u001b[0m\n\u001b[0;32m---> 95\u001b[0;31m     table = __internal_pivot_table(\n\u001b[0m\u001b[1;32m     96\u001b[0m         \u001b[0mdata\u001b[0m\u001b[0;34m,\u001b[0m\u001b[0;34m\u001b[0m\u001b[0;34m\u001b[0m\u001b[0m\n\u001b[1;32m     97\u001b[0m         \u001b[0mvalues\u001b[0m\u001b[0;34m,\u001b[0m\u001b[0;34m\u001b[0m\u001b[0;34m\u001b[0m\u001b[0m\n",
      "\u001b[0;32m~/.local/lib/python3.8/site-packages/pandas/core/reshape/pivot.py\u001b[0m in \u001b[0;36m__internal_pivot_table\u001b[0;34m(data, values, index, columns, aggfunc, fill_value, margins, dropna, margins_name, observed, sort)\u001b[0m\n\u001b[1;32m    139\u001b[0m         \u001b[0;32mfor\u001b[0m \u001b[0mi\u001b[0m \u001b[0;32min\u001b[0m \u001b[0mvalues\u001b[0m\u001b[0;34m:\u001b[0m\u001b[0;34m\u001b[0m\u001b[0;34m\u001b[0m\u001b[0m\n\u001b[1;32m    140\u001b[0m             \u001b[0;32mif\u001b[0m \u001b[0mi\u001b[0m \u001b[0;32mnot\u001b[0m \u001b[0;32min\u001b[0m \u001b[0mdata\u001b[0m\u001b[0;34m:\u001b[0m\u001b[0;34m\u001b[0m\u001b[0;34m\u001b[0m\u001b[0m\n\u001b[0;32m--> 141\u001b[0;31m                 \u001b[0;32mraise\u001b[0m \u001b[0mKeyError\u001b[0m\u001b[0;34m(\u001b[0m\u001b[0mi\u001b[0m\u001b[0;34m)\u001b[0m\u001b[0;34m\u001b[0m\u001b[0;34m\u001b[0m\u001b[0m\n\u001b[0m\u001b[1;32m    142\u001b[0m \u001b[0;34m\u001b[0m\u001b[0m\n\u001b[1;32m    143\u001b[0m         \u001b[0mto_filter\u001b[0m \u001b[0;34m=\u001b[0m \u001b[0;34m[\u001b[0m\u001b[0;34m]\u001b[0m\u001b[0;34m\u001b[0m\u001b[0;34m\u001b[0m\u001b[0m\n",
      "\u001b[0;31mKeyError\u001b[0m: 'acct_avg_os_bal_amt'"
     ]
    }
   ],
   "source": [
    "acct_avg_os_bal_amt = pd.pivot_table(all_df_1,values='acct_avg_os_bal_amt',index='vintage',columns='stmt_mth',aggfunc='sum',margins=True,margins_name = 'Total').drop('Total',axis=1)\n",
    "acct_avg_os_bal_amt.iloc[-1] = tot_avg_os_bal_amt.iloc[-1]/active_acct_cnt.iloc[-1]  "
   ]
  },
  {
   "cell_type": "code",
   "execution_count": 93,
   "metadata": {},
   "outputs": [
    {
     "ename": "KeyError",
     "evalue": "'cl_util_rate'",
     "output_type": "error",
     "traceback": [
      "\u001b[0;31m---------------------------------------------------------------------------\u001b[0m",
      "\u001b[0;31mKeyError\u001b[0m                                  Traceback (most recent call last)",
      "\u001b[0;32m<ipython-input-93-3e0b7104c431>\u001b[0m in \u001b[0;36m<module>\u001b[0;34m\u001b[0m\n\u001b[0;32m----> 1\u001b[0;31m \u001b[0mcl_util_rate\u001b[0m \u001b[0;34m=\u001b[0m \u001b[0mpd\u001b[0m\u001b[0;34m.\u001b[0m\u001b[0mpivot_table\u001b[0m\u001b[0;34m(\u001b[0m\u001b[0mall_df_1\u001b[0m\u001b[0;34m,\u001b[0m\u001b[0mvalues\u001b[0m\u001b[0;34m=\u001b[0m\u001b[0;34m'cl_util_rate'\u001b[0m\u001b[0;34m,\u001b[0m\u001b[0mindex\u001b[0m\u001b[0;34m=\u001b[0m\u001b[0;34m'vintage'\u001b[0m\u001b[0;34m,\u001b[0m\u001b[0mcolumns\u001b[0m\u001b[0;34m=\u001b[0m\u001b[0;34m'stmt_mth'\u001b[0m\u001b[0;34m,\u001b[0m\u001b[0maggfunc\u001b[0m\u001b[0;34m=\u001b[0m\u001b[0;34m'sum'\u001b[0m\u001b[0;34m,\u001b[0m\u001b[0mmargins\u001b[0m\u001b[0;34m=\u001b[0m\u001b[0;32mTrue\u001b[0m\u001b[0;34m,\u001b[0m\u001b[0mmargins_name\u001b[0m \u001b[0;34m=\u001b[0m \u001b[0;34m'Total'\u001b[0m\u001b[0;34m)\u001b[0m\u001b[0;34m.\u001b[0m\u001b[0mdrop\u001b[0m\u001b[0;34m(\u001b[0m\u001b[0;34m'Total'\u001b[0m\u001b[0;34m,\u001b[0m\u001b[0maxis\u001b[0m\u001b[0;34m=\u001b[0m\u001b[0;36m1\u001b[0m\u001b[0;34m)\u001b[0m\u001b[0;34m\u001b[0m\u001b[0;34m\u001b[0m\u001b[0m\n\u001b[0m\u001b[1;32m      2\u001b[0m \u001b[0mcl_util_rate\u001b[0m\u001b[0;34m.\u001b[0m\u001b[0miloc\u001b[0m\u001b[0;34m[\u001b[0m\u001b[0;34m-\u001b[0m\u001b[0;36m1\u001b[0m\u001b[0;34m]\u001b[0m \u001b[0;34m=\u001b[0m \u001b[0mtot_avg_os_bal_amt\u001b[0m\u001b[0;34m.\u001b[0m\u001b[0miloc\u001b[0m\u001b[0;34m[\u001b[0m\u001b[0;34m-\u001b[0m\u001b[0;36m1\u001b[0m\u001b[0;34m]\u001b[0m\u001b[0;34m/\u001b[0m\u001b[0mactive_credit_limit\u001b[0m\u001b[0;34m.\u001b[0m\u001b[0miloc\u001b[0m\u001b[0;34m[\u001b[0m\u001b[0;34m-\u001b[0m\u001b[0;36m1\u001b[0m\u001b[0;34m]\u001b[0m\u001b[0;34m\u001b[0m\u001b[0;34m\u001b[0m\u001b[0m\n",
      "\u001b[0;32m~/.local/lib/python3.8/site-packages/pandas/core/reshape/pivot.py\u001b[0m in \u001b[0;36mpivot_table\u001b[0;34m(data, values, index, columns, aggfunc, fill_value, margins, dropna, margins_name, observed, sort)\u001b[0m\n\u001b[1;32m     93\u001b[0m         \u001b[0;32mreturn\u001b[0m \u001b[0mtable\u001b[0m\u001b[0;34m.\u001b[0m\u001b[0m__finalize__\u001b[0m\u001b[0;34m(\u001b[0m\u001b[0mdata\u001b[0m\u001b[0;34m,\u001b[0m \u001b[0mmethod\u001b[0m\u001b[0;34m=\u001b[0m\u001b[0;34m\"pivot_table\"\u001b[0m\u001b[0;34m)\u001b[0m\u001b[0;34m\u001b[0m\u001b[0;34m\u001b[0m\u001b[0m\n\u001b[1;32m     94\u001b[0m \u001b[0;34m\u001b[0m\u001b[0m\n\u001b[0;32m---> 95\u001b[0;31m     table = __internal_pivot_table(\n\u001b[0m\u001b[1;32m     96\u001b[0m         \u001b[0mdata\u001b[0m\u001b[0;34m,\u001b[0m\u001b[0;34m\u001b[0m\u001b[0;34m\u001b[0m\u001b[0m\n\u001b[1;32m     97\u001b[0m         \u001b[0mvalues\u001b[0m\u001b[0;34m,\u001b[0m\u001b[0;34m\u001b[0m\u001b[0;34m\u001b[0m\u001b[0m\n",
      "\u001b[0;32m~/.local/lib/python3.8/site-packages/pandas/core/reshape/pivot.py\u001b[0m in \u001b[0;36m__internal_pivot_table\u001b[0;34m(data, values, index, columns, aggfunc, fill_value, margins, dropna, margins_name, observed, sort)\u001b[0m\n\u001b[1;32m    139\u001b[0m         \u001b[0;32mfor\u001b[0m \u001b[0mi\u001b[0m \u001b[0;32min\u001b[0m \u001b[0mvalues\u001b[0m\u001b[0;34m:\u001b[0m\u001b[0;34m\u001b[0m\u001b[0;34m\u001b[0m\u001b[0m\n\u001b[1;32m    140\u001b[0m             \u001b[0;32mif\u001b[0m \u001b[0mi\u001b[0m \u001b[0;32mnot\u001b[0m \u001b[0;32min\u001b[0m \u001b[0mdata\u001b[0m\u001b[0;34m:\u001b[0m\u001b[0;34m\u001b[0m\u001b[0;34m\u001b[0m\u001b[0m\n\u001b[0;32m--> 141\u001b[0;31m                 \u001b[0;32mraise\u001b[0m \u001b[0mKeyError\u001b[0m\u001b[0;34m(\u001b[0m\u001b[0mi\u001b[0m\u001b[0;34m)\u001b[0m\u001b[0;34m\u001b[0m\u001b[0;34m\u001b[0m\u001b[0m\n\u001b[0m\u001b[1;32m    142\u001b[0m \u001b[0;34m\u001b[0m\u001b[0m\n\u001b[1;32m    143\u001b[0m         \u001b[0mto_filter\u001b[0m \u001b[0;34m=\u001b[0m \u001b[0;34m[\u001b[0m\u001b[0;34m]\u001b[0m\u001b[0;34m\u001b[0m\u001b[0;34m\u001b[0m\u001b[0m\n",
      "\u001b[0;31mKeyError\u001b[0m: 'cl_util_rate'"
     ]
    }
   ],
   "source": [
    "cl_util_rate = pd.pivot_table(all_df_1,values='cl_util_rate',index='vintage',columns='stmt_mth',aggfunc='sum',margins=True,margins_name = 'Total').drop('Total',axis=1)\n",
    "cl_util_rate.iloc[-1] = tot_avg_os_bal_amt.iloc[-1]/active_credit_limit.iloc[-1]"
   ]
  },
  {
   "cell_type": "code",
   "execution_count": 27,
   "metadata": {},
   "outputs": [],
   "source": [
    "tot_txn_amt = pd.pivot_table(all_df_1,values='tot_txn_amt',index='vintage',columns='stmt_mth',aggfunc='sum',margins=True,margins_name = 'Total').drop('Total',axis=1)\n",
    "tot_txn_amt.to_csv(\"tot_txn_amt.csv\")"
   ]
  },
  {
   "cell_type": "code",
   "execution_count": 28,
   "metadata": {},
   "outputs": [],
   "source": [
    "acct_txn_amt = pd.pivot_table(all_df_1,values='acct_txn_amt',index='vintage',columns='stmt_mth',aggfunc='sum',margins=True,margins_name = 'Total').drop('Total',axis=1)\n",
    "acct_txn_amt.iloc[-1] = tot_txn_amt.iloc[-1]/active_acct_cnt.iloc[-1]\n",
    "acct_txn_amt.to_csv(\"acct_txn_amt.csv\")"
   ]
  },
  {
   "cell_type": "code",
   "execution_count": 30,
   "metadata": {},
   "outputs": [],
   "source": [
    "txn_cl_util_pct = pd.pivot_table(all_df_1,values='txn_cl_util_pct',index='vintage',columns='stmt_mth',aggfunc='sum',margins=True,margins_name = 'Total').drop('Total',axis=1)\n",
    "txn_cl_util_pct.iloc[-1] = tot_txn_amt.iloc[-1]/active_credit_limit.iloc[-1]\n",
    "txn_cl_util_pct.to_csv(\"txn_cl_util_pct.csv\")"
   ]
  },
  {
   "cell_type": "code",
   "execution_count": 31,
   "metadata": {},
   "outputs": [],
   "source": [
    "tot_txn_cnt = pd.pivot_table(all_df_1,values='tot_txn_cnt',index='vintage',columns='stmt_mth',aggfunc='sum',margins=True,margins_name = 'Total').drop('Total',axis=1)\n",
    "tot_txn_cnt.to_csv(\"tot_txn_cnt.csv\")"
   ]
  },
  {
   "cell_type": "code",
   "execution_count": 32,
   "metadata": {},
   "outputs": [],
   "source": [
    "acct_txn_cnt = pd.pivot_table(all_df_1,values='acct_txn_cnt',index='vintage',columns='stmt_mth',aggfunc='sum',margins=True,margins_name = 'Total').drop('Total',axis=1)\n",
    "acct_txn_cnt.iloc[-1] = tot_txn_cnt.iloc[-1]/active_acct_cnt.iloc[-1]\n",
    "acct_txn_cnt.to_csv(\"acct_txn_cnt.csv\")"
   ]
  },
  {
   "cell_type": "code",
   "execution_count": 33,
   "metadata": {},
   "outputs": [],
   "source": [
    "txn_size_amt = pd.pivot_table(all_df_1,values='txn_size_amt',index='vintage',columns='stmt_mth',aggfunc='sum',margins=True,margins_name = 'Total').drop('Total',axis=1)\n",
    "txn_size_amt.iloc[-1] = tot_txn_amt.iloc[-1]/tot_txn_cnt.iloc[-1]\n",
    "txn_size_amt.to_csv(\"txn_size_amt.csv\")"
   ]
  },
  {
   "cell_type": "code",
   "execution_count": 34,
   "metadata": {},
   "outputs": [],
   "source": [
    "tot_adb_amt = pd.pivot_table(all_df_1,values='tot_adb_amt',index='vintage',columns='stmt_mth',aggfunc='sum',margins=True,margins_name = 'Total').drop('Total',axis=1)\n",
    "tot_adb_amt.to_csv(\"tot_adb_amt.csv\")"
   ]
  },
  {
   "cell_type": "code",
   "execution_count": 35,
   "metadata": {},
   "outputs": [],
   "source": [
    "acct_adb_amt = pd.pivot_table(all_df_1,values='acct_adb_amt',index='vintage',columns='stmt_mth',aggfunc='sum',margins=True,margins_name = 'Total').drop('Total',axis=1)\n",
    "acct_adb_amt.iloc[-1] = tot_adb_amt.iloc[-1]/active_acct_cnt.iloc[-1]\n",
    "acct_adb_amt.to_csv(\"acct_adb_amt.csv\")"
   ]
  },
  {
   "cell_type": "code",
   "execution_count": 36,
   "metadata": {},
   "outputs": [],
   "source": [
    "adb_cl_util_pct = pd.pivot_table(all_df_1,values='adb_cl_util_pct',index='vintage',columns='stmt_mth',aggfunc='sum',margins=True,margins_name = 'Total').drop('Total',axis=1)\n",
    "adb_cl_util_pct.iloc[-1] = tot_adb_amt.iloc[-1]/active_credit_limit.iloc[-1]\n",
    "adb_cl_util_pct.to_csv(\"adb_cl_util_pct.csv\")"
   ]
  },
  {
   "cell_type": "code",
   "execution_count": 37,
   "metadata": {},
   "outputs": [],
   "source": [
    "tot_prncp_amt = pd.pivot_table(all_df_1,values='tot_prncp_amt',index='vintage',columns='stmt_mth',aggfunc='sum',margins=True,margins_name = 'Total').drop('Total',axis=1)\n",
    "tot_prncp_amt.to_csv(\"tot_prncp_amt.csv\")"
   ]
  },
  {
   "cell_type": "code",
   "execution_count": 38,
   "metadata": {},
   "outputs": [],
   "source": [
    "all_adb = pd.pivot_table(all_df_1,values='all_adb_amt',index='vintage',columns='stmt_mth',aggfunc='sum',margins=True,margins_name = 'Total').drop('Total',axis=1)\n",
    "\n",
    "revolving_pct = pd.pivot_table(all_df_1,values='revolving_rate',index='vintage',columns='stmt_mth',aggfunc='sum',margins=True,margins_name = 'Total').drop('Total',axis=1)\n",
    "revolving_pct.iloc[-1] = tot_adb_amt.iloc[-1]/all_adb.iloc[-1]\n",
    "revolving_pct.to_csv(\"revolving_pct.csv\")"
   ]
  }
 ],
 "metadata": {
  "kernelspec": {
   "display_name": "base",
   "language": "python",
   "name": "python3"
  },
  "language_info": {
   "codemirror_mode": {
    "name": "ipython",
    "version": 3
   },
   "file_extension": ".py",
   "mimetype": "text/x-python",
   "name": "python",
   "nbconvert_exporter": "python",
   "pygments_lexer": "ipython3",
   "version": "3.8.5 (default, Sep  4 2020, 07:30:14) \n[GCC 7.3.0]"
  },
  "orig_nbformat": 4,
  "vscode": {
   "interpreter": {
    "hash": "d4d1e4263499bec80672ea0156c357c1ee493ec2b1c70f0acce89fc37c4a6abe"
   }
  }
 },
 "nbformat": 4,
 "nbformat_minor": 2
}
