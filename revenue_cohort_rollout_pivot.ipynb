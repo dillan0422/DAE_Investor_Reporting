{
 "cells": [
  {
   "cell_type": "code",
   "execution_count": 1,
   "metadata": {},
   "outputs": [],
   "source": [
    "# Python script to do the analysis based on the account table\n",
    "import openpyxl\n",
    "import numpy as np\n",
    "import pandas as pd\n",
    "import os\n",
    "from util import rs_conn, mail\n",
    "import time\n",
    "import datetime\n",
    "import logging"
   ]
  },
  {
   "cell_type": "code",
   "execution_count": 2,
   "metadata": {},
   "outputs": [],
   "source": [
    "# Get the redshift user name and password\n",
    "rs_user = os.getenv('RS_USER')\n",
    "rs_pass = os.getenv('RS_PASS')\n",
    "\n",
    "# Connect to the Redshift\n",
    "rs = rs_conn.RS_CONN(rs_user=rs_user, rs_pass=rs_pass)\n",
    "rs.set_Conn()"
   ]
  },
  {
   "cell_type": "code",
   "execution_count": 11,
   "metadata": {},
   "outputs": [],
   "source": [
    "acct_engagement_pull_all_cycle=\"\"\"\n",
    "select \n",
    "        a.cycle_end_dt\n",
    "        , a.vintage\n",
    "        ,sum(case when a.acct_status_desc = 'Active' then 1 else 0 end) as active_acct_cnt \n",
    "        ,sum(a.stmt_charged_interest_amt) as assessed_interest \n",
    "        ,sum(b.stmt_paid_interest_amt) as collected_interest \n",
    "        ,sum(b.stmt_paid_interest_amt) - sum(b.stmt_tot_refund_interests_amt) as adj_interest_revenue_amt\n",
    "        \n",
    "        ,sum(a.stmt_charged_fee_amt) as assessed_fee \n",
    "        ,sum(b.stmt_paid_fee_amt) - sum(b.stmt_tot_refund_fee_amt) as fee_revenue_amt \n",
    "        \n",
    "        ,sum(case when a.stmt_num=1 then a.open_fee_amt else 0 end) as open_fee_amt_\n",
    "        ,sum(a.stmt_tot_interchange_fee_amt) as interchange_revenue_amt\n",
    "        ,sum(coalesce(a.service_pmt_commission_amt,0)) as service_pmt_revenue_amt\n",
    "        ,coalesce(adj_interest_revenue_amt+fee_revenue_amt+open_fee_amt_+interchange_revenue_amt+service_pmt_revenue_amt,0) as total_revenue\n",
    "        \n",
    "from ua.wen_stmt_acct_table_v3 a\n",
    "left outer join ua.wen_stmt_acct_table_v3 b \n",
    "    on a.external_acct_id = b.external_acct_id\n",
    "    and a.cycle_end_dt = b.cycle_start_dt - 1\n",
    "where a.activation_dt is not null\n",
    "and a.acct_status_desc <> 'Inactive'\n",
    "group by 1,2\n",
    "order by 1\n",
    ";\n",
    "\"\"\"\n",
    "df=rs.get_result_df(sql_query=acct_engagement_pull_all_cycle)"
   ]
  },
  {
   "cell_type": "code",
   "execution_count": 32,
   "metadata": {},
   "outputs": [],
   "source": [
    "df = pd.read_csv(\"df.csv\")"
   ]
  },
  {
   "cell_type": "code",
   "execution_count": 30,
   "metadata": {},
   "outputs": [
    {
     "data": {
      "text/plain": [
       "Index(['Unnamed: 0', 'cycle_end_dt', 'vintage', 'active_acct_cnt',\n",
       "       'assessed_interest', 'collected_interest', 'adj_interest_revenue_amt',\n",
       "       'assessed_fee', 'fee_revenue_amt', 'open_fee_amt_',\n",
       "       'interchange_revenue_amt', 'service_pmt_revenue_amt', 'total_revenue',\n",
       "       'arpu'],\n",
       "      dtype='object')"
      ]
     },
     "execution_count": 30,
     "metadata": {},
     "output_type": "execute_result"
    }
   ],
   "source": [
    "df.columns"
   ]
  },
  {
   "cell_type": "code",
   "execution_count": 28,
   "metadata": {},
   "outputs": [],
   "source": [
    "#df[\"total_revenue\"] = df[\"adj_interest_revenue_amt\"] + df[\"fee_revenue_amt\"] + df[\"open_fee_amt\"] + df[\"interchange_revenue_amt\"] + df[\"service_pmt_revenue_amt\"]\n",
    "df[\"arpu\"] = df[\"total_revenue\"]/df[\"active_acct_cnt\"]"
   ]
  },
  {
   "cell_type": "code",
   "execution_count": 33,
   "metadata": {},
   "outputs": [],
   "source": [
    "total_revenue = pd.pivot_table(df,values='total_revenue',index='cycle_end_dt',columns='vintage  ',aggfunc='sum',margins=True,margins_name = 'Total').drop('Total',axis=1)\n",
    "total_revenue.to_csv(\"total_revenue.csv\")"
   ]
  },
  {
   "cell_type": "code",
   "execution_count": 21,
   "metadata": {},
   "outputs": [
    {
     "ename": "KeyError",
     "evalue": "'arpu'",
     "output_type": "error",
     "traceback": [
      "\u001b[0;31m---------------------------------------------------------------------------\u001b[0m",
      "\u001b[0;31mKeyError\u001b[0m                                  Traceback (most recent call last)",
      "\u001b[0;32m<ipython-input-21-843cb9ca2558>\u001b[0m in \u001b[0;36m<module>\u001b[0;34m\u001b[0m\n\u001b[0;32m----> 1\u001b[0;31m \u001b[0marpu\u001b[0m \u001b[0;34m=\u001b[0m \u001b[0mpd\u001b[0m\u001b[0;34m.\u001b[0m\u001b[0mpivot_table\u001b[0m\u001b[0;34m(\u001b[0m\u001b[0mdf\u001b[0m\u001b[0;34m,\u001b[0m\u001b[0mvalues\u001b[0m\u001b[0;34m=\u001b[0m\u001b[0;34m'arpu'\u001b[0m\u001b[0;34m,\u001b[0m\u001b[0mindex\u001b[0m\u001b[0;34m=\u001b[0m\u001b[0;34m'vintage'\u001b[0m\u001b[0;34m,\u001b[0m\u001b[0mcolumns\u001b[0m\u001b[0;34m=\u001b[0m\u001b[0;34m'cycle_end_dt'\u001b[0m\u001b[0;34m,\u001b[0m\u001b[0maggfunc\u001b[0m\u001b[0;34m=\u001b[0m\u001b[0;34m'sum'\u001b[0m\u001b[0;34m,\u001b[0m\u001b[0mmargins\u001b[0m\u001b[0;34m=\u001b[0m\u001b[0;32mTrue\u001b[0m\u001b[0;34m,\u001b[0m\u001b[0mmargins_name\u001b[0m \u001b[0;34m=\u001b[0m \u001b[0;34m'Total'\u001b[0m\u001b[0;34m)\u001b[0m\u001b[0;34m.\u001b[0m\u001b[0mdrop\u001b[0m\u001b[0;34m(\u001b[0m\u001b[0;34m'Total'\u001b[0m\u001b[0;34m,\u001b[0m\u001b[0maxis\u001b[0m\u001b[0;34m=\u001b[0m\u001b[0;36m1\u001b[0m\u001b[0;34m)\u001b[0m\u001b[0;34m\u001b[0m\u001b[0;34m\u001b[0m\u001b[0m\n\u001b[0m\u001b[1;32m      2\u001b[0m \u001b[0marpu\u001b[0m\u001b[0;34m.\u001b[0m\u001b[0mto_csv\u001b[0m\u001b[0;34m(\u001b[0m\u001b[0;34m\"arpu.csv\"\u001b[0m\u001b[0;34m)\u001b[0m\u001b[0;34m\u001b[0m\u001b[0;34m\u001b[0m\u001b[0m\n",
      "\u001b[0;32m~/.local/lib/python3.8/site-packages/pandas/core/reshape/pivot.py\u001b[0m in \u001b[0;36mpivot_table\u001b[0;34m(data, values, index, columns, aggfunc, fill_value, margins, dropna, margins_name, observed, sort)\u001b[0m\n\u001b[1;32m     93\u001b[0m         \u001b[0;32mreturn\u001b[0m \u001b[0mtable\u001b[0m\u001b[0;34m.\u001b[0m\u001b[0m__finalize__\u001b[0m\u001b[0;34m(\u001b[0m\u001b[0mdata\u001b[0m\u001b[0;34m,\u001b[0m \u001b[0mmethod\u001b[0m\u001b[0;34m=\u001b[0m\u001b[0;34m\"pivot_table\"\u001b[0m\u001b[0;34m)\u001b[0m\u001b[0;34m\u001b[0m\u001b[0;34m\u001b[0m\u001b[0m\n\u001b[1;32m     94\u001b[0m \u001b[0;34m\u001b[0m\u001b[0m\n\u001b[0;32m---> 95\u001b[0;31m     table = __internal_pivot_table(\n\u001b[0m\u001b[1;32m     96\u001b[0m         \u001b[0mdata\u001b[0m\u001b[0;34m,\u001b[0m\u001b[0;34m\u001b[0m\u001b[0;34m\u001b[0m\u001b[0m\n\u001b[1;32m     97\u001b[0m         \u001b[0mvalues\u001b[0m\u001b[0;34m,\u001b[0m\u001b[0;34m\u001b[0m\u001b[0;34m\u001b[0m\u001b[0m\n",
      "\u001b[0;32m~/.local/lib/python3.8/site-packages/pandas/core/reshape/pivot.py\u001b[0m in \u001b[0;36m__internal_pivot_table\u001b[0;34m(data, values, index, columns, aggfunc, fill_value, margins, dropna, margins_name, observed, sort)\u001b[0m\n\u001b[1;32m    139\u001b[0m         \u001b[0;32mfor\u001b[0m \u001b[0mi\u001b[0m \u001b[0;32min\u001b[0m \u001b[0mvalues\u001b[0m\u001b[0;34m:\u001b[0m\u001b[0;34m\u001b[0m\u001b[0;34m\u001b[0m\u001b[0m\n\u001b[1;32m    140\u001b[0m             \u001b[0;32mif\u001b[0m \u001b[0mi\u001b[0m \u001b[0;32mnot\u001b[0m \u001b[0;32min\u001b[0m \u001b[0mdata\u001b[0m\u001b[0;34m:\u001b[0m\u001b[0;34m\u001b[0m\u001b[0;34m\u001b[0m\u001b[0m\n\u001b[0;32m--> 141\u001b[0;31m                 \u001b[0;32mraise\u001b[0m \u001b[0mKeyError\u001b[0m\u001b[0;34m(\u001b[0m\u001b[0mi\u001b[0m\u001b[0;34m)\u001b[0m\u001b[0;34m\u001b[0m\u001b[0;34m\u001b[0m\u001b[0m\n\u001b[0m\u001b[1;32m    142\u001b[0m \u001b[0;34m\u001b[0m\u001b[0m\n\u001b[1;32m    143\u001b[0m         \u001b[0mto_filter\u001b[0m \u001b[0;34m=\u001b[0m \u001b[0;34m[\u001b[0m\u001b[0;34m]\u001b[0m\u001b[0;34m\u001b[0m\u001b[0;34m\u001b[0m\u001b[0m\n",
      "\u001b[0;31mKeyError\u001b[0m: 'arpu'"
     ]
    }
   ],
   "source": [
    "arpu = pd.pivot_table(df,values='arpu',index='vintage',columns='cycle_end_dt',aggfunc='sum',margins=True,margins_name = 'Total').drop('Total',axis=1)\n",
    "arpu.to_csv(\"arpu.csv\")"
   ]
  }
 ],
 "metadata": {
  "kernelspec": {
   "display_name": "base",
   "language": "python",
   "name": "python3"
  },
  "language_info": {
   "codemirror_mode": {
    "name": "ipython",
    "version": 3
   },
   "file_extension": ".py",
   "mimetype": "text/x-python",
   "name": "python",
   "nbconvert_exporter": "python",
   "pygments_lexer": "ipython3",
   "version": "3.8.5"
  },
  "orig_nbformat": 4,
  "vscode": {
   "interpreter": {
    "hash": "d4d1e4263499bec80672ea0156c357c1ee493ec2b1c70f0acce89fc37c4a6abe"
   }
  }
 },
 "nbformat": 4,
 "nbformat_minor": 2
}
